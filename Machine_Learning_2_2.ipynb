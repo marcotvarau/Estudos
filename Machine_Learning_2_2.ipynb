{
  "nbformat": 4,
  "nbformat_minor": 0,
  "metadata": {
    "colab": {
      "name": "Machine Learning 2_2",
      "provenance": [],
      "authorship_tag": "ABX9TyOM5nZ+yKSoDhoVMODIjBKj",
      "include_colab_link": true
    },
    "kernelspec": {
      "name": "python3",
      "display_name": "Python 3"
    },
    "language_info": {
      "name": "python"
    }
  },
  "cells": [
    {
      "cell_type": "markdown",
      "metadata": {
        "id": "view-in-github",
        "colab_type": "text"
      },
      "source": [
        "<a href=\"https://colab.research.google.com/github/marcotvarau/Estudos/blob/main/Machine_Learning_2_2.ipynb\" target=\"_parent\"><img src=\"https://colab.research.google.com/assets/colab-badge.svg\" alt=\"Open In Colab\"/></a>"
      ]
    },
    {
      "cell_type": "code",
      "execution_count": null,
      "metadata": {
        "id": "f4_cG1fR3k4G"
      },
      "outputs": [],
      "source": [
        "import pandas as pd\n",
        "from collections import Counter"
      ]
    },
    {
      "cell_type": "code",
      "source": [
        "df = pd.read_csv(\"buscas.csv\")"
      ],
      "metadata": {
        "id": "ryM6zDk_3yoR"
      },
      "execution_count": null,
      "outputs": []
    },
    {
      "cell_type": "code",
      "source": [
        "X_df = df[[\"home\",\"busca\",\"logado\"]]\n",
        "Y_df = df[\"comprou\"]"
      ],
      "metadata": {
        "id": "CFh-Qy0Imuw1"
      },
      "execution_count": null,
      "outputs": []
    },
    {
      "cell_type": "code",
      "source": [
        "Xdummies_df = pd.get_dummies(X_df)\n",
        "Ydummies_df = Y_df"
      ],
      "metadata": {
        "id": "rtsPb2LjnZGt"
      },
      "execution_count": null,
      "outputs": []
    },
    {
      "cell_type": "code",
      "source": [
        "X = Xdummies_df.values\n",
        "Y = Ydummies_df.values"
      ],
      "metadata": {
        "id": "Cvh9LY6NpTKQ"
      },
      "execution_count": null,
      "outputs": []
    },
    {
      "cell_type": "code",
      "source": [
        "porcentagem_treino = 0.9\n",
        "\n",
        "tamanho_de_treino = int(porcentagem_treino * len(Y))\n",
        "tamanho_de_teste = len(Y) - tamanho_de_treino\n",
        "\n",
        "treino_dados = X[:tamanho_de_treino]\n",
        "treino_marcacoes = Y[:tamanho_de_treino]\n",
        "\n",
        "teste_dados = X[-tamanho_de_teste:]\n",
        "teste_marcacoes = Y[-tamanho_de_teste:]"
      ],
      "metadata": {
        "id": "elVyNRsApfk5"
      },
      "execution_count": null,
      "outputs": []
    },
    {
      "cell_type": "code",
      "source": [
        "from sklearn.naive_bayes import MultinomialNB\n",
        "modelo = MultinomialNB()\n",
        "modelo.fit(treino_dados, treino_marcacoes)\n",
        "\n",
        "resultado = modelo.predict(teste_dados)\n",
        "\n",
        "diferencas = resultado - teste_marcacoes\n",
        "\n",
        "acertos = [d for d in diferencas if d == 0]\n",
        "total_de_acertos = len(acertos)\n",
        "total_de_elementos = len(teste_dados)\n",
        "\n",
        "taxa_de_acerto = 100.0 * total_de_acertos / total_de_elementos\n",
        "\n",
        "print(taxa_de_acerto)\n",
        "print(total_de_elementos)"
      ],
      "metadata": {
        "colab": {
          "base_uri": "https://localhost:8080/"
        },
        "id": "ri1Pu5NYnguM",
        "outputId": "2f98d685-4dc2-4df6-df19-643fe36248b4"
      },
      "execution_count": null,
      "outputs": [
        {
          "output_type": "stream",
          "name": "stdout",
          "text": [
            "82.0\n",
            "100\n"
          ]
        }
      ]
    },
    {
      "cell_type": "code",
      "source": [
        "acerto_base = max(Counter(teste_marcacoes).values())\n",
        "taxa_de_acerto_base = 100.0 * acerto_base/len(teste_marcacoes)\n",
        "print(f\"Taxa de acerto base: {taxa_de_acerto_base} %\")"
      ],
      "metadata": {
        "colab": {
          "base_uri": "https://localhost:8080/"
        },
        "id": "hYNcwM8v7SMm",
        "outputId": "885a13f9-b44b-4fa6-cfd8-b2c261e7bc05"
      },
      "execution_count": null,
      "outputs": [
        {
          "output_type": "stream",
          "name": "stdout",
          "text": [
            "Taxa de acerto base: 82.0 %\n"
          ]
        }
      ]
    },
    {
      "cell_type": "code",
      "source": [
        "Y.sum()"
      ],
      "metadata": {
        "colab": {
          "base_uri": "https://localhost:8080/"
        },
        "id": "A_yNsYXvomZJ",
        "outputId": "cd4555fa-4fa3-4848-bc65-3c705aa89ec2"
      },
      "execution_count": null,
      "outputs": [
        {
          "output_type": "execute_result",
          "data": {
            "text/plain": [
              "832"
            ]
          },
          "metadata": {},
          "execution_count": 9
        }
      ]
    }
  ]
}